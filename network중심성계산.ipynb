{
  "nbformat": 4,
  "nbformat_minor": 0,
  "metadata": {
    "colab": {
      "provenance": [],
      "authorship_tag": "ABX9TyNqLrt6zIkjqZkPKBKB/KMk",
      "include_colab_link": true
    },
    "kernelspec": {
      "name": "python3",
      "display_name": "Python 3"
    },
    "language_info": {
      "name": "python"
    }
  },
  "cells": [
    {
      "cell_type": "markdown",
      "metadata": {
        "id": "view-in-github",
        "colab_type": "text"
      },
      "source": [
        "<a href=\"https://colab.research.google.com/github/caramelpopcornKHU/caramelpopcornKHU/blob/main/network%EC%A4%91%EC%8B%AC%EC%84%B1%EA%B3%84%EC%82%B0.ipynb\" target=\"_parent\"><img src=\"https://colab.research.google.com/assets/colab-badge.svg\" alt=\"Open In Colab\"/></a>"
      ]
    },
    {
      "cell_type": "code",
      "execution_count": null,
      "metadata": {
        "id": "sEytqSTF3E-h"
      },
      "outputs": [],
      "source": [
        "import networkx as nx\n",
        "import osmnx as ox"
      ]
    },
    {
      "cell_type": "code",
      "source": [
        "# 설정\n",
        "ox.settings.use_cache = True"
      ],
      "metadata": {
        "id": "ZSmBCvuS3KEG"
      },
      "execution_count": null,
      "outputs": []
    },
    {
      "cell_type": "code",
      "source": [
        "# 도로망 그래프 다운로드\n",
        "#G = ox.graph_from_point((37.79, -122.41), dist=750, network_type=\"drive\")\n",
        "G = ox.graph.graph_from_place('서울특별시', network_type = 'drive')"
      ],
      "metadata": {
        "id": "h8R0RqkD3Lo9"
      },
      "execution_count": null,
      "outputs": []
    },
    {
      "cell_type": "code",
      "source": [
        "# 속도 및 소요 시간 계산\n",
        "korea_speed_defaults = {\n",
        "    \"motorway\": 100,       # 고속도로\n",
        "    \"trunk\": 80,           # 자동차 전용도로, 국도\n",
        "    \"primary\": 60,         # 주요 간선도로\n",
        "    \"secondary\": 50,       # 보조 간선도로\n",
        "    \"tertiary\": 40,        # 연결도로\n",
        "    \"residential\": 30,     # 주택가 도로\n",
        "    \"service\": 20          # 골목길, 주차장 진입로\n",
        "}\n",
        "\n",
        "\n",
        "G = ox.add_edge_speeds(G , hwy_speeds = korea_speed_defaults, fallback=30)  # 한국 시도 조례 기준 속도 가정, 정보가 없는 도로는 30키로\n",
        "G = ox.add_edge_travel_times(G)"
      ],
      "metadata": {
        "id": "jSIPXKsf3XRq"
      },
      "execution_count": null,
      "outputs": []
    },
    {
      "cell_type": "code",
      "source": [
        "# GeoDataFrame으로 변환 및 다시 그래프로 재구성\n",
        "gdf_nodes, gdf_edges = ox.graph_to_gdfs(G)\n",
        "G = ox.graph_from_gdfs(gdf_nodes, gdf_edges, graph_attrs=G.graph)"
      ],
      "metadata": {
        "id": "k6ga3QSd3X-c"
      },
      "execution_count": null,
      "outputs": []
    },
    {
      "cell_type": "code",
      "source": [
        "D = nx.DiGraph()\n",
        "for u, v, data in G.edges(data=True):\n",
        "    existing_data = D.get_edge_data(u, v)\n",
        "    if existing_data is None:\n",
        "        D.add_edge(u, v, **data)\n",
        "    else:\n",
        "        if data.get(\"travel_time\", float(\"inf\")) < existing_data.get(\"travel_time\", float(\"inf\")):\n",
        "            # 먼저 edge를 삭제하고 다시 추가\n",
        "            D.remove_edge(u, v)\n",
        "            D.add_edge(u, v, **data)\n"
      ],
      "metadata": {
        "id": "kL5XwtS83ZqI"
      },
      "execution_count": null,
      "outputs": []
    },
    {
      "cell_type": "code",
      "source": [
        "# 중심성 계산 (travel_time 가중치 사용)\n",
        "bc = nx.betweenness_centrality(D, weight=\"travel_time\", normalized=True)\n",
        "nx.set_node_attributes(G, bc, \"bc\")\n"
      ],
      "metadata": {
        "id": "XzsZ0C803bn0"
      },
      "execution_count": null,
      "outputs": []
    },
    {
      "cell_type": "code",
      "source": [
        "# 시각화\n",
        "nc = ox.plot.get_node_colors_by_attr(G, \"bc\", cmap=\"plasma\")\n",
        "fig, ax = ox.plot_graph(\n",
        "    G,\n",
        "    bgcolor=\"k\",\n",
        "    node_color=nc,\n",
        "    node_size=50,\n",
        "    edge_linewidth=2,\n",
        "    edge_color=\"#333333\"\n",
        ")"
      ],
      "metadata": {
        "id": "4AF9rOf03dRR"
      },
      "execution_count": null,
      "outputs": []
    },
    {
      "cell_type": "code",
      "source": [],
      "metadata": {
        "id": "WUfOOAwO3fkO"
      },
      "execution_count": null,
      "outputs": []
    }
  ]
}